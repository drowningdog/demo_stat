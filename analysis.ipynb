{
 "cells": [
  {
   "cell_type": "markdown",
   "source": [],
   "metadata": {
    "collapsed": false,
    "pycharm": {
     "name": "#%% md\n"
    }
   }
  },
  {
   "cell_type": "code",
   "execution_count": 12,
   "outputs": [],
   "source": [
    "# 社区成员数据分析\n",
    "\n",
    "import pandas as pd\n",
    "import numpy as np\n",
    "import matplotlib.pyplot as plt\n",
    "import seaborn as sns\n",
    "import os"
   ],
   "metadata": {
    "collapsed": false,
    "pycharm": {
     "name": "#%%\n"
    }
   }
  },
  {
   "cell_type": "code",
   "execution_count": 13,
   "outputs": [],
   "source": [
    "# 配置中文字体和输出目录\n",
    "plt.rcParams['font.sans-serif'] = [\n",
    "        'Hiragino Sans GB',   # 冬青黑体（macOS 10.6+ 自带）\n",
    "        'AppleGothic',        # 苹果儷黑\n",
    "        'Arial Unicode MS'    # Office安装时自带\n",
    "    ]\n",
    "# plt.rcParams['font.sans-serif'] = ['SimHei'] # Windows/Linux 简化配置\n",
    "plt.rcParams['axes.unicode_minus'] = False # 解决负号显示问题\n",
    "output_dir = 'analysis_results'\n",
    "os.makedirs(output_dir, exist_ok=True)"
   ],
   "metadata": {
    "collapsed": false,
    "pycharm": {
     "name": "#%%\n"
    }
   }
  },
  {
   "cell_type": "code",
   "execution_count": 14,
   "outputs": [],
   "source": [
    "# 数据加载与清洗\n",
    "df = pd.read_excel('注意保护隐私，只填写必要信息.xlsx',\n",
    "                  header=1,\n",
    "                  skiprows=[2],\n",
    "                  usecols=\"B:J\").dropna(how='all')"
   ],
   "metadata": {
    "collapsed": false,
    "pycharm": {
     "name": "#%%\n"
    }
   }
  },
  {
   "cell_type": "code",
   "execution_count": 15,
   "outputs": [
    {
     "name": "stdout",
     "output_type": "stream",
     "text": [
      "=== 数据样本检查 ===\n"
     ]
    },
    {
     "data": {
      "text/plain": "        昵称          目标岗位   经验  地区         目的\n0  建材AAA王哥            pm  5.0  海外       项目经验\n1      王思捷     fullstack  3.0  海外       工作机会\n2      Zoe  fullstack/pm  4.5  海外  工作机会/公司挂靠",
      "text/html": "<div>\n<style scoped>\n    .dataframe tbody tr th:only-of-type {\n        vertical-align: middle;\n    }\n\n    .dataframe tbody tr th {\n        vertical-align: top;\n    }\n\n    .dataframe thead th {\n        text-align: right;\n    }\n</style>\n<table border=\"1\" class=\"dataframe\">\n  <thead>\n    <tr style=\"text-align: right;\">\n      <th></th>\n      <th>昵称</th>\n      <th>目标岗位</th>\n      <th>经验</th>\n      <th>地区</th>\n      <th>目的</th>\n    </tr>\n  </thead>\n  <tbody>\n    <tr>\n      <th>0</th>\n      <td>建材AAA王哥</td>\n      <td>pm</td>\n      <td>5.0</td>\n      <td>海外</td>\n      <td>项目经验</td>\n    </tr>\n    <tr>\n      <th>1</th>\n      <td>王思捷</td>\n      <td>fullstack</td>\n      <td>3.0</td>\n      <td>海外</td>\n      <td>工作机会</td>\n    </tr>\n    <tr>\n      <th>2</th>\n      <td>Zoe</td>\n      <td>fullstack/pm</td>\n      <td>4.5</td>\n      <td>海外</td>\n      <td>工作机会/公司挂靠</td>\n    </tr>\n  </tbody>\n</table>\n</div>"
     },
     "metadata": {},
     "output_type": "display_data"
    }
   ],
   "source": [
    "# 列名标准化\n",
    "df.columns = ['昵称', '目标岗位', '原始经验', '邮箱',\n",
    "             '社交账号', '地区', '目的', '加入意愿', '备注']\n",
    "\n",
    "# 经验字段处理函数\n",
    "def parse_experience(exp):\n",
    "    try:\n",
    "        if pd.isna(exp):\n",
    "            return np.nan\n",
    "        if isinstance(exp, str):\n",
    "            exp = exp.strip()\n",
    "            if '实习' in exp:\n",
    "                return 0.5\n",
    "            if '+' in exp:\n",
    "                return float(exp.replace('+', ''))\n",
    "        return float(exp)\n",
    "    except:\n",
    "        return np.nan\n",
    "\n",
    "df['经验'] = df['原始经验'].apply(parse_experience)\n",
    "df = df.drop(columns=['原始经验'])\n",
    "\n",
    "# 数据检查点\n",
    "print(\"=== 数据样本检查 ===\")\n",
    "display(df[['昵称', '目标岗位', '经验', '地区', '目的']].head(3))"
   ],
   "metadata": {
    "collapsed": false,
    "pycharm": {
     "name": "#%%\n"
    }
   }
  },
  {
   "cell_type": "markdown",
   "source": [],
   "metadata": {
    "collapsed": false,
    "pycharm": {
     "name": "#%% md\n"
    }
   }
  },
  {
   "cell_type": "code",
   "execution_count": 16,
   "outputs": [
    {
     "name": "stdout",
     "output_type": "stream",
     "text": [
      "\n",
      "[活跃成员] 总数：43/47\n"
     ]
    }
   ],
   "source": [
    "# 1. 活跃成员分析\n",
    "active_members = df[df['加入意愿'] == '是'].shape[0]\n",
    "print(f\"\\n[活跃成员] 总数：{active_members}/{len(df)}\")"
   ],
   "metadata": {
    "collapsed": false,
    "pycharm": {
     "name": "#%%\n"
    }
   }
  },
  {
   "cell_type": "code",
   "execution_count": 17,
   "outputs": [
    {
     "name": "stdout",
     "output_type": "stream",
     "text": [
      "地区分类统计：\n",
      "地区\n",
      "海外    25\n",
      "国内    22\n",
      "Name: count, dtype: int64\n"
     ]
    },
    {
     "data": {
      "text/plain": "<Figure size 800x800 with 0 Axes>"
     },
     "metadata": {},
     "output_type": "display_data"
    }
   ],
   "source": [
    "# 2. 地域分布分析\n",
    "plt.figure(figsize=(8, 8))\n",
    "\n",
    "# 数据清洗\n",
    "df['地区'] = df['地区'].str[:2].str.strip()\n",
    "\n",
    "# 处理特殊案例（如\"国外\"转为\"海外\"）\n",
    "df['地区'] = df['地区'].replace({'国外': '海外'})\n",
    "\n",
    "# 最终有效分类\n",
    "valid_regions = ['国内', '海外']\n",
    "df = df[df['地区'].isin(valid_regions)]\n",
    "\n",
    "\n",
    "print(\"地区分类统计：\")\n",
    "print(df['地区'].value_counts(dropna=False))\n",
    "\n",
    "region_counts = df['地区'].value_counts()\n",
    "n_regions = len(region_counts)  # 现在应该是2\n",
    "\n",
    "plt.figure(figsize=(8, 8))\n",
    "region_counts.plot.pie(\n",
    "    autopct='%1.1f%%',\n",
    "    colors=['#66b3ff', '#99ff99'][:n_regions],  # 自动匹配颜色数量\n",
    "    explode=(0.05, 0)[:n_regions],             # 自动截取explode参数\n",
    "    startangle=90\n",
    ")\n",
    "plt.title('成员地域分布（标准化后）')\n",
    "plt.savefig(f'{output_dir}/region_dist.png', dpi=300, bbox_inches='tight')\n",
    "plt.close()"
   ],
   "metadata": {
    "collapsed": false,
    "pycharm": {
     "name": "#%%\n"
    }
   }
  },
  {
   "cell_type": "code",
   "execution_count": 18,
   "outputs": [
    {
     "name": "stderr",
     "output_type": "stream",
     "text": [
      "/var/folders/0j/rwkq_d4d5wx9s7f3g2mlxkj80000gn/T/ipykernel_38827/1953149703.py:5: FutureWarning: \n",
      "\n",
      "Passing `palette` without assigning `hue` is deprecated and will be removed in v0.14.0. Assign the `y` variable to `hue` and set `legend=False` for the same effect.\n",
      "\n",
      "  sns.barplot(x=purposes.values, y=purposes.index, palette='viridis')\n"
     ]
    }
   ],
   "source": [
    "# 3. 目的分布分析（处理多选）\n",
    "purposes = df['目的'].str.split('/').explode().str.strip().value_counts()\n",
    "\n",
    "plt.figure(figsize=(10, 6))\n",
    "sns.barplot(x=purposes.values, y=purposes.index, palette='viridis')\n",
    "plt.title('成员主要目的分布')\n",
    "plt.xlabel('人数')\n",
    "plt.savefig(f'{output_dir}/purpose_dist.png', dpi=300, bbox_inches='tight')\n",
    "plt.close()"
   ],
   "metadata": {
    "collapsed": false,
    "pycharm": {
     "name": "#%%\n"
    }
   }
  },
  {
   "cell_type": "code",
   "execution_count": 19,
   "outputs": [
    {
     "data": {
      "text/plain": "<Figure size 1400x800 with 1 Axes>",
      "image/png": "[encoded data removed]"
     },
     "metadata": {},
     "output_type": "display_data"
    }
   ],
   "source": [
    "import pandas as pd\n",
    "import re\n",
    "\n",
    "# 原始数据示例\n",
    "data = [\n",
    "    \"Fullstack/Web Security\", \"Software Tester\", \"Artificial Intelligence Engineer\",\n",
    "    \"Ux/PM\", \"Cybersecurity\", \"Fullstack/Tearneader\", \"Data Developer\",\n",
    "    \"Fullstack/Dapp Fullstack\", \"Frontend/Uux\", \"Fullstack/Backend\",\n",
    "    \"Fullstack/System Analyst\", \"PM/Bd\", \"Fullstack/Rust\",\n",
    "    \"Frontend/Fullstack\", \"Marketing/Advertising\", \"Data Analyst\", \"PM\",\n",
    "    \"Fullstack/Frontend\", \"Backend\", \"Fullstack\"\n",
    "]\n",
    "\n",
    "# 核心合并规则（仅针对需要合并的类别）\n",
    "merge_map = {\n",
    "    r'(?i)\\bmarketing\\b|\\badvertising\\b': '市场营销',\n",
    "    r'(?i)\\bpm\\b|\\bproduct manager\\bproject manager\\b': 'PM',\n",
    "    r'(?i)\\bux\\b|\\buux\\b': 'UX设计',\n",
    "    r'(?i)\\bbd\\b': '商务拓展',\n",
    "    r'(?i)\\bdapp\\b': '区块链开发',\n",
    "    r'(?i)\\btearneader\\b': '团队领导'  # 修正拼写错误\n",
    "}\n",
    "\n",
    "# 拆分复合岗位并合并核心类别\n",
    "def process_positions(pos):\n",
    "    # 预处理：统一格式\n",
    "    pos = re.sub(r'\\s+', '', pos.lower())\n",
    "\n",
    "    # 拆分复合岗位\n",
    "    parts = re.split(r'[/&+,]', pos)\n",
    "\n",
    "    # 应用合并规则\n",
    "    cleaned = []\n",
    "    for part in parts:\n",
    "        for pattern, category in merge_map.items():\n",
    "            if re.search(pattern, part):\n",
    "                cleaned.append(category)\n",
    "                break\n",
    "        else:\n",
    "            cleaned.append(part.title())  # 保留原名称但规范化格式\n",
    "\n",
    "    return cleaned\n",
    "\n",
    "# 生成拆分后的标签列表\n",
    "all_tags = []\n",
    "for pos in data:\n",
    "    tags = process_positions(pos)\n",
    "    all_tags.extend(tags)\n",
    "\n",
    "# 统计频率\n",
    "tag_counts = pd.Series(all_tags).value_counts()\n",
    "\n",
    "# 可视化\n",
    "import matplotlib.pyplot as plt\n",
    "\n",
    "plt.figure(figsize=(14,8))\n",
    "tag_counts.plot.barh(color='#2ca25f')\n",
    "plt.title('岗位技能标签分布（拆分复合岗位+核心合并）')\n",
    "plt.xlabel('出现次数')\n",
    "plt.grid(axis='x', alpha=0.3)\n",
    "plt.tight_layout()\n",
    "plt.savefig(f'{output_dir}/position_dist.png', dpi=300)\n",
    "\n",
    "plt.show()\n",
    "plt.close()"
   ],
   "metadata": {
    "collapsed": false,
    "pycharm": {
     "name": "#%%\n"
    }
   }
  },
  {
   "cell_type": "code",
   "execution_count": 20,
   "outputs": [],
   "source": [
    "# 5. 经验分布分析\n",
    "\n",
    "# 数据清洗：处理缺失值和文本描述\n",
    "def clean_experience(exp):\n",
    "    try:\n",
    "        # 处理空白/缺失值 → 设为0年\n",
    "        if pd.isna(exp) or str(exp).strip() == '':\n",
    "            return 0.0\n",
    "\n",
    "        # 处理文本描述（如\"实习\"）\n",
    "        exp = str(exp).lower()\n",
    "        if '实习' in exp:\n",
    "            return 0.5  # 实习单独标记\n",
    "        if '应届' in exp:\n",
    "            return 0.0\n",
    "\n",
    "        # 提取数值（处理\"3+\", \"5年\"等格式）\n",
    "        num = re.findall(r'\\d+\\.?\\d*', exp)\n",
    "        return float(num[0]) if num else 0.0\n",
    "    except:\n",
    "        return 0.0  # 异常值兜底处理\n",
    "\n",
    "df['经验'] = df['经验'].apply(clean_experience)\n",
    "\n",
    "bins = [0, 1, 3, 5, 10, np.inf]\n",
    "labels = ['应届/实习', '1-3年', '3-5年', '5-10年', '10年+']\n",
    "df['经验分段'] = pd.cut(df['经验'], bins=bins, labels=labels, right=False)\n",
    "\n",
    "plt.figure(figsize=(10, 6))\n",
    "exp_dist = df['经验分段'].value_counts().sort_index()\n",
    "exp_dist.plot(kind='bar', color='#2ca25f')\n",
    "plt.title('成员经验分布')\n",
    "plt.xlabel('经验区间')\n",
    "plt.ylabel('人数')\n",
    "plt.xticks(rotation=45)\n",
    "plt.savefig(f'{output_dir}/experience_dist.png', dpi=300, bbox_inches='tight')\n",
    "plt.close()"
   ],
   "metadata": {
    "collapsed": false,
    "pycharm": {
     "name": "#%%\n"
    }
   }
  },
  {
   "cell_type": "code",
   "execution_count": 21,
   "outputs": [
    {
     "name": "stdout",
     "output_type": "stream",
     "text": [
      "\n",
      "分析完成！结果已保存至 analysis_results 目录\n"
     ]
    }
   ],
   "source": [
    "# 生成文本报告\n",
    "report = f\"\"\"=== 社区成员分析报告 ===\n",
    "总成员数：{len(df)}\n",
    "活跃成员（愿加入工作小组）：{active_members}人 ({active_members/len(df):.1%})\n",
    "\n",
    "地域分布：\n",
    "{region_counts.to_string()}\n",
    "\n",
    "前三大需求目的：\n",
    "{purposes.head(3).to_string()}\n",
    "\n",
    "前三大目标岗位：\n",
    "{tag_counts.head(3).to_string()}\n",
    "\n",
    "经验分布：\n",
    "{exp_dist.to_string()}\n",
    "\"\"\"\n",
    "\n",
    "with open(f'{output_dir}/report.txt', 'w') as f:\n",
    "    f.write(report)\n",
    "\n",
    "print(f\"\\n分析完成！结果已保存至 {output_dir} 目录\")"
   ],
   "metadata": {
    "collapsed": false,
    "pycharm": {
     "name": "#%%\n"
    }
   }
  }
 ],
 "metadata": {
  "kernelspec": {
   "display_name": "Python 3",
   "language": "python",
   "name": "python3"
  },
  "language_info": {
   "codemirror_mode": {
    "name": "ipython",
    "version": 2
   },
   "file_extension": ".py",
   "mimetype": "text/x-python",
   "name": "python",
   "nbconvert_exporter": "python",
   "pygments_lexer": "ipython2",
   "version": "2.7.6"
  }
 },
 "nbformat": 4,
 "nbformat_minor": 0
}